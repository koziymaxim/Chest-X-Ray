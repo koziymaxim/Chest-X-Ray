{
 "cells": [
  {
   "cell_type": "code",
   "execution_count": 35,
   "metadata": {},
   "outputs": [
    {
     "name": "stdout",
     "output_type": "stream",
     "text": [
      "Note: you may need to restart the kernel to use updated packages.\n",
      "Note: you may need to restart the kernel to use updated packages.\n",
      "Note: you may need to restart the kernel to use updated packages.\n",
      "Note: you may need to restart the kernel to use updated packages.\n",
      "Note: you may need to restart the kernel to use updated packages.\n",
      "Note: you may need to restart the kernel to use updated packages.\n"
     ]
    }
   ],
   "source": [
    "%pip install pandas -q\n",
    "%pip install matplotlib -q\n",
    "%pip install kagglehub -q\n",
    "%pip install tensorflow -q\n",
    "%pip install scikit-learn -q\n",
    "%pip install seaborn -q"
   ]
  },
  {
   "cell_type": "code",
   "execution_count": 36,
   "metadata": {
    "execution": {
     "iopub.execute_input": "2025-05-28T20:50:32.167650Z",
     "iopub.status.busy": "2025-05-28T20:50:32.167362Z",
     "iopub.status.idle": "2025-05-28T20:50:52.270652Z",
     "shell.execute_reply": "2025-05-28T20:50:52.269448Z",
     "shell.execute_reply.started": "2025-05-28T20:50:32.167627Z"
    },
    "trusted": true
   },
   "outputs": [],
   "source": [
    "import os\n",
    "import numpy as np\n",
    "import tensorflow as tf\n",
    "import pandas as pd\n",
    "import matplotlib.pyplot as plt\n",
    "import kagglehub\n",
    "import tensorflow as tf\n",
    "import seaborn as sns\n",
    "\n",
    "from tensorflow.keras.layers import Conv2D, Flatten, Dense, AvgPool2D, MaxPool2D, GlobalAveragePooling2D, Dropout, BatchNormalization \n",
    "from tensorflow.keras.models import Sequential\n",
    "from tensorflow.keras.preprocessing.image import ImageDataGenerator\n",
    "from tensorflow.keras.optimizers import Adam\n",
    "from tensorflow.keras.applications.resnet import ResNet50\n",
    "from tensorflow.keras.callbacks import ReduceLROnPlateau\n",
    "from tensorflow.keras.utils import image_dataset_from_directory\n",
    "from tensorflow.keras.callbacks import ReduceLROnPlateau, ModelCheckpoint, EarlyStopping\n",
    "from keras.applications.resnet50 import preprocess_input\n",
    "\n",
    "from sklearn.metrics import confusion_matrix, classification_report\n",
    "\n",
    "RANDOM_SEED = 42\n",
    "IMG_HEIGHT = 224\n",
    "IMG_WIDTH = 224\n",
    "BATCH_SIZE = 32"
   ]
  },
  {
   "cell_type": "code",
   "execution_count": 37,
   "metadata": {},
   "outputs": [],
   "source": [
    "# загрузим данные\n",
    "path = kagglehub.dataset_download(\"paultimothymooney/chest-xray-pneumonia\")\n"
   ]
  },
  {
   "cell_type": "code",
   "execution_count": 38,
   "metadata": {
    "trusted": true
   },
   "outputs": [],
   "source": [
    "# преднастройка формаирование датасета\n",
    "settings_loading_data = dict(\n",
    "    labels='inferred',\n",
    "    label_mode='binary',\n",
    "    color_mode='grayscale', # если использовать предобученную ч/б модель, то изменить этот параметр на 'grayscale'\n",
    "    image_size=(IMG_HEIGHT, IMG_WIDTH),\n",
    "    interpolation='nearest', # Попробовать: bicubic (лучшая, но тяжёлая) lanczos3/5 (вроде норм), было nearest\n",
    "    batch_size=BATCH_SIZE,\n",
    "    seed=RANDOM_SEED\n",
    ")"
   ]
  },
  {
   "cell_type": "code",
   "execution_count": 39,
   "metadata": {},
   "outputs": [
    {
     "name": "stdout",
     "output_type": "stream",
     "text": [
      "Found 5216 files belonging to 2 classes.\n",
      "Found 16 files belonging to 2 classes.\n",
      "Found 624 files belonging to 2 classes.\n"
     ]
    }
   ],
   "source": [
    "# сформируем датасеты\n",
    "df_train = image_dataset_from_directory(\n",
    "    path + '/chest_xray/train',\n",
    "    shuffle=True,\n",
    "    **settings_loading_data\n",
    ")\n",
    "\n",
    "df_valid = image_dataset_from_directory(\n",
    "    path + '/chest_xray/val',\n",
    "    shuffle=False,\n",
    "    **settings_loading_data\n",
    ")\n",
    "\n",
    "df_test = image_dataset_from_directory(\n",
    "    path + '/chest_xray/test',\n",
    "    shuffle=False,\n",
    "    **settings_loading_data\n",
    ")"
   ]
  },
  {
   "cell_type": "code",
   "execution_count": 40,
   "metadata": {},
   "outputs": [
    {
     "name": "stdout",
     "output_type": "stream",
     "text": [
      "Классы: ['NORMAL', 'PNEUMONIA']\n"
     ]
    }
   ],
   "source": [
    "# вывод 9 фотографий из датасета для примера\n",
    "class_names = df_train.class_names\n",
    "print(\"Классы:\", class_names)\n",
    "\n",
    "# for images, labels in df_train.take(1):\n",
    "#     plt.figure(figsize=(10, 10))\n",
    "#     for i in range(9):\n",
    "#         ax = plt.subplot(3, 3, i + 1)\n",
    "#         plt.imshow(images[i].numpy().astype(\"uint8\").squeeze(), cmap='gray') \n",
    "#         plt.title(f\"Class: {class_names[int(labels[i].numpy().item())]}\")\n",
    "#         plt.axis(\"off\")\n",
    "#     plt.show()"
   ]
  },
  {
   "cell_type": "code",
   "execution_count": 41,
   "metadata": {},
   "outputs": [
    {
     "name": "stdout",
     "output_type": "stream",
     "text": [
      "Новый размер train (батчей): 132\n",
      "Новый размер valid (батчей): 32\n"
     ]
    }
   ],
   "source": [
    "# т.к. 16 изображений валидационной выборки - это очень мало, то объединим test с val, а потом разобьем их\n",
    "df_train_full = df_train.concatenate(df_valid)\n",
    "val_size = int(len(df_train_full) * 0.2)\n",
    "\n",
    "df_valid = df_train_full.take(val_size)\n",
    "df_train = df_train_full.skip(val_size)\n",
    "\n",
    "print(f\"Новый размер train (батчей): {len(df_train)}\")\n",
    "print(f\"Новый размер valid (батчей): {len(df_valid)}\")"
   ]
  },
  {
   "cell_type": "code",
   "execution_count": 42,
   "metadata": {},
   "outputs": [
    {
     "name": "stdout",
     "output_type": "stream",
     "text": [
      "Класс NORMAL (0): 1067 изображений\n",
      "Класс PNEUMONIA (1): 3141 изображений\n"
     ]
    }
   ],
   "source": [
    "# проверим баланс классов\n",
    "# TODO - сделать попроще это ячейку\n",
    "labels = []\n",
    "for _, label_batch in df_train:\n",
    "    labels.extend(label_batch.numpy())\n",
    "\n",
    "normal_count = np.sum(np.array(labels) == 0)\n",
    "pneumonia_count = np.sum(np.array(labels) == 1)\n",
    "\n",
    "print(f\"Класс NORMAL (0): {normal_count} изображений\")\n",
    "print(f\"Класс PNEUMONIA (1): {pneumonia_count} изображений\")"
   ]
  },
  {
   "cell_type": "code",
   "execution_count": 43,
   "metadata": {},
   "outputs": [],
   "source": [
    "# настроим аугментацию\n",
    "# 1. будем поворачивать фотографии, на 10 градусов в разные стороны\n",
    "# 2. смещаем фотографии по вертикали и горизонатли на 10 процентов\n",
    "# 3. зумим фотографии на 20 процентов\n",
    "data_augmentation_pipeline = tf.keras.Sequential([\n",
    "    tf.keras.layers.RandomRotation(factor=10/360.0, fill_mode=\"nearest\", interpolation=\"bilinear\"),\n",
    "    tf.keras.layers.RandomTranslation(height_factor=0.1, width_factor=0.1, fill_mode=\"nearest\", interpolation=\"bilinear\"),\n",
    "    tf.keras.layers.RandomZoom(height_factor=0.2, width_factor=0.2, fill_mode=\"nearest\", interpolation=\"bilinear\")\n",
    "])"
   ]
  },
  {
   "cell_type": "code",
   "execution_count": 44,
   "metadata": {},
   "outputs": [],
   "source": [
    "# Функция для нормализации\n",
    "def normalize_img(image, label):\n",
    "    \"\"\"Приводит значения пикселей к диапазону [0, 1].\"\"\"\n",
    "    return tf.cast(image, tf.float32) / 255.0, label\n",
    "\n",
    "# Функция аугментации и нормализации для ТРЕНИРОВОЧНЫХ данных\n",
    "def augment_and_normalize_train(image, label):\n",
    "    \"\"\"Применяет аугментацию и затем нормализует изображение.\"\"\"\n",
    "    image_augmented = data_augmentation_pipeline(image, training=True)\n",
    "    return tf.cast(image_augmented, tf.float32) / 255.0, label\n",
    "\n",
    "# Применяем новые функции к нашим датасетам\n",
    "# Важно: аугментацию применяем ТОЛЬКО к df_train\n",
    "df_train_processed = df_train.map(augment_and_normalize_train, num_parallel_calls=tf.data.AUTOTUNE).prefetch(tf.data.AUTOTUNE)\n",
    "df_valid_processed = df_valid.map(normalize_img, num_parallel_calls=tf.data.AUTOTUNE).prefetch(tf.data.AUTOTUNE)\n",
    "df_test_processed = df_test.map(normalize_img, num_parallel_calls=tf.data.AUTOTUNE).prefetch(tf.data.AUTOTUNE)"
   ]
  },
  {
   "cell_type": "code",
   "execution_count": 45,
   "metadata": {},
   "outputs": [
    {
     "name": "stdout",
     "output_type": "stream",
     "text": [
      "Класс NORMAL (0): 1077 изображений\n",
      "Класс PNEUMONIA (1): 3131 изображений\n"
     ]
    }
   ],
   "source": [
    "# проверим баланс классов\n",
    "# TODO - сделать попроще это ячейку\n",
    "labels = []\n",
    "for _, label_batch in df_train_processed:\n",
    "    labels.extend(label_batch.numpy())\n",
    "\n",
    "normal_count = np.sum(np.array(labels) == 0)\n",
    "pneumonia_count = np.sum(np.array(labels) == 1)\n",
    "\n",
    "print(f\"Класс NORMAL (0): {normal_count} изображений\")\n",
    "print(f\"Класс PNEUMONIA (1): {pneumonia_count} изображений\")"
   ]
  },
  {
   "cell_type": "code",
   "execution_count": 46,
   "metadata": {},
   "outputs": [],
   "source": [
    "# рассчитаем class_weights\n",
    "# сделаем это через кол-во элементов одного и второго класса\n",
    "labels = np.concatenate([y for x, y in df_train_processed], axis=0)\n",
    "normal_count = np.sum(labels == 0)\n",
    "pneumonia_count = np.sum(labels == 1)\n",
    "total_count = len(labels)\n",
    "\n",
    "weight_for_0 = (1 / normal_count) * (total_count / 2)\n",
    "weight_for_1 = (1 / pneumonia_count) * (total_count / 2)\n",
    "\n",
    "class_weights = {0: weight_for_0, 1: weight_for_1}"
   ]
  },
  {
   "cell_type": "code",
   "execution_count": 47,
   "metadata": {},
   "outputs": [
    {
     "name": "stderr",
     "output_type": "stream",
     "text": [
      "/home/koziy/projects/xray_env/lib/python3.12/site-packages/keras/src/layers/convolutional/base_conv.py:113: UserWarning: Do not pass an `input_shape`/`input_dim` argument to a layer. When using Sequential models, prefer using an `Input(shape)` object as the first layer in the model instead.\n",
      "  super().__init__(activity_regularizer=activity_regularizer, **kwargs)\n"
     ]
    }
   ],
   "source": [
    "# создадим модель\n",
    "model = Sequential()\n",
    "\n",
    "\n",
    "model.add(Conv2D(32, (3, 3), activation='relu', padding='same', input_shape=(IMG_HEIGHT, IMG_WIDTH, 1)))\n",
    "model.add(BatchNormalization())\n",
    "model.add(MaxPool2D((2, 2)))\n",
    "\n",
    "model.add(Conv2D(64, (3, 3), activation='relu', padding='same'))\n",
    "model.add(BatchNormalization())\n",
    "model.add(MaxPool2D((2, 2)))\n",
    "\n",
    "model.add(Conv2D(128, (3, 3), activation='relu', padding='same'))\n",
    "model.add(BatchNormalization())\n",
    "model.add(MaxPool2D((2, 2)))\n",
    "model.add(Dropout(0.2))\n",
    "\n",
    "model.add(Conv2D(256, (3, 3), activation='relu', padding='same'))\n",
    "model.add(BatchNormalization())\n",
    "model.add(MaxPool2D((2, 2)))\n",
    "model.add(Dropout(0.2))\n",
    "\n",
    "\n",
    "model.add(Flatten())\n",
    "model.add(Dense(1024, activation='relu'))\n",
    "model.add(BatchNormalization())\n",
    "model.add(Dropout(0.2))\n",
    "model.add(Dense(1, activation='sigmoid'))\n",
    "\n",
    "model.compile(\n",
    "    loss='binary_crossentropy', \n",
    "    optimizer=Adam(learning_rate=1e-3), \n",
    "    metrics=[\n",
    "        'accuracy',       \n",
    "        tf.keras.metrics.Precision(name='precision'),\n",
    "        tf.keras.metrics.Recall(name='recall'),\n",
    "        tf.keras.metrics.AUC(name='auc')\n",
    "    ]\n",
    ")"
   ]
  },
  {
   "cell_type": "code",
   "execution_count": 48,
   "metadata": {},
   "outputs": [
    {
     "name": "stdout",
     "output_type": "stream",
     "text": [
      "Epoch 1/30\n",
      "\u001b[1m132/132\u001b[0m \u001b[32m━━━━━━━━━━━━━━━━━━━━\u001b[0m\u001b[37m\u001b[0m \u001b[1m0s\u001b[0m 97ms/step - accuracy: 0.8137 - auc: 0.9063 - loss: 0.5800 - precision: 0.9554 - recall: 0.7865"
     ]
    },
    {
     "name": "stderr",
     "output_type": "stream",
     "text": [
      "WARNING:absl:You are saving your model as an HDF5 file via `model.save()` or `keras.saving.save_model(model)`. This file format is considered legacy. We recommend using instead the native Keras format, e.g. `model.save('my_model.keras')` or `keras.saving.save_model(model, 'my_model.keras')`. \n"
     ]
    },
    {
     "name": "stdout",
     "output_type": "stream",
     "text": [
      "\u001b[1m132/132\u001b[0m \u001b[32m━━━━━━━━━━━━━━━━━━━━\u001b[0m\u001b[37m\u001b[0m \u001b[1m22s\u001b[0m 119ms/step - accuracy: 0.8141 - auc: 0.9066 - loss: 0.5784 - precision: 0.9555 - recall: 0.7870 - val_accuracy: 0.7266 - val_auc: 0.5000 - val_loss: 76.2165 - val_precision: 0.7266 - val_recall: 1.0000 - learning_rate: 0.0010\n",
      "Epoch 2/30\n",
      "\u001b[1m132/132\u001b[0m \u001b[32m━━━━━━━━━━━━━━━━━━━━\u001b[0m\u001b[37m\u001b[0m \u001b[1m0s\u001b[0m 94ms/step - accuracy: 0.9168 - auc: 0.9757 - loss: 0.1999 - precision: 0.9821 - recall: 0.9047"
     ]
    },
    {
     "name": "stderr",
     "output_type": "stream",
     "text": [
      "WARNING:absl:You are saving your model as an HDF5 file via `model.save()` or `keras.saving.save_model(model)`. This file format is considered legacy. We recommend using instead the native Keras format, e.g. `model.save('my_model.keras')` or `keras.saving.save_model(model, 'my_model.keras')`. \n"
     ]
    },
    {
     "name": "stdout",
     "output_type": "stream",
     "text": [
      "\u001b[1m132/132\u001b[0m \u001b[32m━━━━━━━━━━━━━━━━━━━━\u001b[0m\u001b[37m\u001b[0m \u001b[1m15s\u001b[0m 109ms/step - accuracy: 0.9167 - auc: 0.9757 - loss: 0.2000 - precision: 0.9821 - recall: 0.9047 - val_accuracy: 0.7363 - val_auc: 0.5000 - val_loss: 68.8288 - val_precision: 0.7363 - val_recall: 1.0000 - learning_rate: 0.0010\n",
      "Epoch 3/30\n",
      "\u001b[1m132/132\u001b[0m \u001b[32m━━━━━━━━━━━━━━━━━━━━\u001b[0m\u001b[37m\u001b[0m \u001b[1m0s\u001b[0m 89ms/step - accuracy: 0.9027 - auc: 0.9665 - loss: 0.2492 - precision: 0.9662 - recall: 0.8982"
     ]
    },
    {
     "name": "stderr",
     "output_type": "stream",
     "text": [
      "WARNING:absl:You are saving your model as an HDF5 file via `model.save()` or `keras.saving.save_model(model)`. This file format is considered legacy. We recommend using instead the native Keras format, e.g. `model.save('my_model.keras')` or `keras.saving.save_model(model, 'my_model.keras')`. \n"
     ]
    },
    {
     "name": "stdout",
     "output_type": "stream",
     "text": [
      "\u001b[1m132/132\u001b[0m \u001b[32m━━━━━━━━━━━━━━━━━━━━\u001b[0m\u001b[37m\u001b[0m \u001b[1m14s\u001b[0m 104ms/step - accuracy: 0.9027 - auc: 0.9666 - loss: 0.2491 - precision: 0.9663 - recall: 0.8982 - val_accuracy: 0.7148 - val_auc: 0.4975 - val_loss: 12.8843 - val_precision: 0.7248 - val_recall: 0.9812 - learning_rate: 0.0010\n",
      "Epoch 4/30\n",
      "\u001b[1m132/132\u001b[0m \u001b[32m━━━━━━━━━━━━━━━━━━━━\u001b[0m\u001b[37m\u001b[0m \u001b[1m0s\u001b[0m 97ms/step - accuracy: 0.9194 - auc: 0.9742 - loss: 0.2040 - precision: 0.9783 - recall: 0.9112"
     ]
    },
    {
     "name": "stderr",
     "output_type": "stream",
     "text": [
      "WARNING:absl:You are saving your model as an HDF5 file via `model.save()` or `keras.saving.save_model(model)`. This file format is considered legacy. We recommend using instead the native Keras format, e.g. `model.save('my_model.keras')` or `keras.saving.save_model(model, 'my_model.keras')`. \n"
     ]
    },
    {
     "name": "stdout",
     "output_type": "stream",
     "text": [
      "\u001b[1m132/132\u001b[0m \u001b[32m━━━━━━━━━━━━━━━━━━━━\u001b[0m\u001b[37m\u001b[0m \u001b[1m15s\u001b[0m 113ms/step - accuracy: 0.9193 - auc: 0.9742 - loss: 0.2040 - precision: 0.9782 - recall: 0.9112 - val_accuracy: 0.9043 - val_auc: 0.9580 - val_loss: 0.2575 - val_precision: 0.8979 - val_recall: 0.9799 - learning_rate: 0.0010\n",
      "Epoch 5/30\n",
      "\u001b[1m132/132\u001b[0m \u001b[32m━━━━━━━━━━━━━━━━━━━━\u001b[0m\u001b[37m\u001b[0m \u001b[1m13s\u001b[0m 95ms/step - accuracy: 0.9031 - auc: 0.9699 - loss: 0.2235 - precision: 0.9702 - recall: 0.8983 - val_accuracy: 0.7275 - val_auc: 0.7504 - val_loss: 1.5033 - val_precision: 0.7275 - val_recall: 0.9987 - learning_rate: 0.0010\n",
      "Epoch 6/30\n",
      "\u001b[1m132/132\u001b[0m \u001b[32m━━━━━━━━━━━━━━━━━━━━\u001b[0m\u001b[37m\u001b[0m \u001b[1m0s\u001b[0m 98ms/step - accuracy: 0.9377 - auc: 0.9863 - loss: 0.1493 - precision: 0.9829 - recall: 0.9326\n",
      "Epoch 6: ReduceLROnPlateau reducing learning rate to 0.00020000000949949026.\n",
      "\u001b[1m132/132\u001b[0m \u001b[32m━━━━━━━━━━━━━━━━━━━━\u001b[0m\u001b[37m\u001b[0m \u001b[1m14s\u001b[0m 104ms/step - accuracy: 0.9377 - auc: 0.9863 - loss: 0.1494 - precision: 0.9828 - recall: 0.9326 - val_accuracy: 0.7295 - val_auc: 0.7258 - val_loss: 1.5434 - val_precision: 0.7299 - val_recall: 0.9973 - learning_rate: 0.0010\n",
      "Epoch 7/30\n",
      "\u001b[1m132/132\u001b[0m \u001b[32m━━━━━━━━━━━━━━━━━━━━\u001b[0m\u001b[37m\u001b[0m \u001b[1m0s\u001b[0m 89ms/step - accuracy: 0.9376 - auc: 0.9860 - loss: 0.1486 - precision: 0.9820 - recall: 0.9334"
     ]
    },
    {
     "name": "stderr",
     "output_type": "stream",
     "text": [
      "WARNING:absl:You are saving your model as an HDF5 file via `model.save()` or `keras.saving.save_model(model)`. This file format is considered legacy. We recommend using instead the native Keras format, e.g. `model.save('my_model.keras')` or `keras.saving.save_model(model, 'my_model.keras')`. \n"
     ]
    },
    {
     "name": "stdout",
     "output_type": "stream",
     "text": [
      "\u001b[1m132/132\u001b[0m \u001b[32m━━━━━━━━━━━━━━━━━━━━\u001b[0m\u001b[37m\u001b[0m \u001b[1m14s\u001b[0m 104ms/step - accuracy: 0.9377 - auc: 0.9860 - loss: 0.1485 - precision: 0.9820 - recall: 0.9335 - val_accuracy: 0.9316 - val_auc: 0.9920 - val_loss: 0.2249 - val_precision: 0.9956 - val_recall: 0.9098 - learning_rate: 2.0000e-04\n",
      "Epoch 8/30\n",
      "\u001b[1m132/132\u001b[0m \u001b[32m━━━━━━━━━━━━━━━━━━━━\u001b[0m\u001b[37m\u001b[0m \u001b[1m14s\u001b[0m 102ms/step - accuracy: 0.9466 - auc: 0.9880 - loss: 0.1364 - precision: 0.9811 - recall: 0.9452 - val_accuracy: 0.7383 - val_auc: 0.9804 - val_loss: 0.7552 - val_precision: 1.0000 - val_recall: 0.6412 - learning_rate: 2.0000e-04\n",
      "Epoch 9/30\n",
      "\u001b[1m132/132\u001b[0m \u001b[32m━━━━━━━━━━━━━━━━━━━━\u001b[0m\u001b[37m\u001b[0m \u001b[1m0s\u001b[0m 87ms/step - accuracy: 0.9426 - auc: 0.9858 - loss: 0.1484 - precision: 0.9832 - recall: 0.9386\n",
      "Epoch 9: ReduceLROnPlateau reducing learning rate to 4.0000001899898055e-05.\n",
      "\u001b[1m132/132\u001b[0m \u001b[32m━━━━━━━━━━━━━━━━━━━━\u001b[0m\u001b[37m\u001b[0m \u001b[1m13s\u001b[0m 93ms/step - accuracy: 0.9426 - auc: 0.9858 - loss: 0.1483 - precision: 0.9832 - recall: 0.9386 - val_accuracy: 0.8008 - val_auc: 0.9786 - val_loss: 0.6332 - val_precision: 1.0000 - val_recall: 0.7262 - learning_rate: 2.0000e-04\n",
      "Epoch 10/30\n",
      "\u001b[1m132/132\u001b[0m \u001b[32m━━━━━━━━━━━━━━━━━━━━\u001b[0m\u001b[37m\u001b[0m \u001b[1m14s\u001b[0m 103ms/step - accuracy: 0.9559 - auc: 0.9895 - loss: 0.1212 - precision: 0.9846 - recall: 0.9557 - val_accuracy: 0.8203 - val_auc: 0.9814 - val_loss: 0.5561 - val_precision: 1.0000 - val_recall: 0.7514 - learning_rate: 4.0000e-05\n",
      "Epoch 11/30\n",
      "\u001b[1m132/132\u001b[0m \u001b[32m━━━━━━━━━━━━━━━━━━━━\u001b[0m\u001b[37m\u001b[0m \u001b[1m0s\u001b[0m 97ms/step - accuracy: 0.9531 - auc: 0.9896 - loss: 0.1244 - precision: 0.9850 - recall: 0.9516\n",
      "Epoch 11: ReduceLROnPlateau reducing learning rate to 8.000000525498762e-06.\n",
      "\u001b[1m132/132\u001b[0m \u001b[32m━━━━━━━━━━━━━━━━━━━━\u001b[0m\u001b[37m\u001b[0m \u001b[1m14s\u001b[0m 102ms/step - accuracy: 0.9531 - auc: 0.9896 - loss: 0.1244 - precision: 0.9850 - recall: 0.9516 - val_accuracy: 0.8457 - val_auc: 0.9846 - val_loss: 0.4731 - val_precision: 1.0000 - val_recall: 0.7871 - learning_rate: 4.0000e-05\n",
      "Epoch 12/30\n",
      "\u001b[1m132/132\u001b[0m \u001b[32m━━━━━━━━━━━━━━━━━━━━\u001b[0m\u001b[37m\u001b[0m \u001b[1m13s\u001b[0m 91ms/step - accuracy: 0.9585 - auc: 0.9918 - loss: 0.1141 - precision: 0.9870 - recall: 0.9567 - val_accuracy: 0.8154 - val_auc: 0.9843 - val_loss: 0.5587 - val_precision: 1.0000 - val_recall: 0.7490 - learning_rate: 8.0000e-06\n"
     ]
    }
   ],
   "source": [
    "# используем коллбэки\n",
    "# 1. Настройка learning rate при обучении\n",
    "# 2. Сохранение лучшей версии модели\n",
    "# 3. Остановка обучения, если нет улучшений\n",
    "reduce_lr = ReduceLROnPlateau(monitor='val_loss', factor=0.2, patience=2, min_lr=1e-6, verbose=1)\n",
    "model_checkpoint = ModelCheckpoint('best_model.h5', monitor='val_loss', save_best_only=True)\n",
    "early_stopping = EarlyStopping(monitor='val_loss', patience=5, restore_best_weights=True)\n",
    "\n",
    "history = model.fit(\n",
    "    df_train_processed,\n",
    "    validation_data=df_valid_processed,\n",
    "    class_weight=class_weights,\n",
    "    epochs=30,\n",
    "    callbacks=[reduce_lr, model_checkpoint, early_stopping]\n",
    ")"
   ]
  },
  {
   "cell_type": "code",
   "execution_count": 49,
   "metadata": {},
   "outputs": [
    {
     "data": {
      "image/png": "[encoded data removed]",
      "text/plain": [
       "<Figure size 1400x600 with 2 Axes>"
      ]
     },
     "metadata": {},
     "output_type": "display_data"
    }
   ],
   "source": [
    "# --- НОВАЯ ЯЧЕЙКА: Визуализация результатов обучения ---\n",
    "\n",
    "# history - это объект, который вернул model.fit()\n",
    "# history.history - это словарь с записями метрик по эпохам\n",
    "\n",
    "# Извлекаем данные из истории обучения\n",
    "acc = history.history['accuracy']\n",
    "val_acc = history.history['val_accuracy']\n",
    "loss = history.history['loss']\n",
    "val_loss = history.history['val_loss']\n",
    "\n",
    "# Создаем массив эпох для оси X\n",
    "epochs_range = range(len(acc))\n",
    "\n",
    "# Создаем фигуру для графиков\n",
    "plt.figure(figsize=(14, 6))\n",
    "\n",
    "# --- График точности (Accuracy) ---\n",
    "plt.subplot(1, 2, 1) # 1 строка, 2 колонки, 1-й график\n",
    "plt.plot(epochs_range, acc, label='Точность на обучении (Train Accuracy)')\n",
    "plt.plot(epochs_range, val_acc, label='Точность на валидации (Validation Accuracy)')\n",
    "plt.legend(loc='lower right')\n",
    "plt.title('График точности (Accuracy)')\n",
    "plt.xlabel('Эпохи')\n",
    "plt.ylabel('Точность')\n",
    "\n",
    "# --- График потерь (Loss) ---\n",
    "plt.subplot(1, 2, 2) # 1 строка, 2 колонки, 2-й график\n",
    "plt.plot(epochs_range, loss, label='Потери на обучении (Train Loss)')\n",
    "plt.plot(epochs_range, val_loss, label='Потери на валидации (Validation Loss)')\n",
    "plt.legend(loc='upper right')\n",
    "plt.title('График потерь (Loss)')\n",
    "plt.xlabel('Эпохи')\n",
    "plt.ylabel('Потери')\n",
    "\n",
    "# Показываем графики\n",
    "plt.show()"
   ]
  },
  {
   "cell_type": "code",
   "execution_count": 50,
   "metadata": {},
   "outputs": [
    {
     "name": "stdout",
     "output_type": "stream",
     "text": [
      "\u001b[1m20/20\u001b[0m \u001b[32m━━━━━━━━━━━━━━━━━━━━\u001b[0m\u001b[37m\u001b[0m \u001b[1m1s\u001b[0m 45ms/step - accuracy: 0.8798 - auc: 0.6400 - loss: 0.3455 - precision: 0.5149 - recall: 0.6411  \n",
      "Test Loss: 0.25657448172569275\n",
      "Test Accuracy: 0.9086538553237915\n"
     ]
    }
   ],
   "source": [
    "# проверим модель на тесте\n",
    "results = model.evaluate(df_test_processed)\n",
    "print(\"Test Loss:\", results[0])\n",
    "print(\"Test Accuracy:\", results[1])"
   ]
  },
  {
   "cell_type": "markdown",
   "metadata": {},
   "source": [
    "___\n",
    "    ДО class_weights:\n",
    "    Test Loss: 0.6504877805709839\n",
    "    Test Accuracy: 0.6089743375778198\n",
    "\n",
    "    ПОСЛЕ class_weights:\n",
    "    Test Loss: 0.6858784556388855\n",
    "    Test Accuracy: 0.6330128312110901\n",
    "___"
   ]
  },
  {
   "cell_type": "code",
   "execution_count": 51,
   "metadata": {},
   "outputs": [
    {
     "name": "stdout",
     "output_type": "stream",
     "text": [
      "\u001b[1m20/20\u001b[0m \u001b[32m━━━━━━━━━━━━━━━━━━━━\u001b[0m\u001b[37m\u001b[0m \u001b[1m1s\u001b[0m 35ms/step\n"
     ]
    },
    {
     "data": {
      "image/png": "[encoded data removed]",
      "text/plain": [
       "<Figure size 640x480 with 1 Axes>"
      ]
     },
     "metadata": {},
     "output_type": "display_data"
    },
    {
     "name": "stdout",
     "output_type": "stream",
     "text": [
      "              precision    recall  f1-score   support\n",
      "\n",
      "      NORMAL       0.93      0.82      0.87       234\n",
      "   PNEUMONIA       0.90      0.96      0.93       390\n",
      "\n",
      "    accuracy                           0.91       624\n",
      "   macro avg       0.91      0.89      0.90       624\n",
      "weighted avg       0.91      0.91      0.91       624\n",
      "\n"
     ]
    }
   ],
   "source": [
    "# сделаем матрицу ошибок\n",
    "y_pred_proba = model.predict(df_test_processed)\n",
    "y_pred = (y_pred_proba > 0.5).astype('int32')\n",
    "y_true = np.concatenate([y for x, y in df_test_processed], axis=0)\n",
    "\n",
    "\n",
    "cm = confusion_matrix(y_true, y_pred)\n",
    "sns.heatmap(cm, annot=True, fmt='d', cmap='Blues', cbar=False)\n",
    "plt.xlabel('Предсказанные метки')\n",
    "plt.ylabel('Истинные метки')\n",
    "plt.title('Матрица ошибок')\n",
    "plt.show()\n",
    "\n",
    "print(classification_report(y_true, y_pred, target_names=['NORMAL', 'PNEUMONIA']))"
   ]
  },
  {
   "cell_type": "markdown",
   "metadata": {},
   "source": [
    "___\n",
    "  ДО class_weights:\n",
    "  0 - 17 - 217\n",
    "  1 - 27 - 363\n",
    "    | 0  |  1 |\n",
    "\n",
    "  ПОСЛЕ class_weights:\n",
    "  0 - 11 - 223\n",
    "  1 - 6 - 384\n",
    "    | 0  |  1 |\n",
    "___"
   ]
  },
  {
   "cell_type": "code",
   "execution_count": null,
   "metadata": {},
   "outputs": [],
   "source": []
  }
 ],
 "metadata": {
  "kaggle": {
   "accelerator": "none",
   "dataSources": [
    {
     "datasetId": 17810,
     "sourceId": 23812,
     "sourceType": "datasetVersion"
    }
   ],
   "dockerImageVersionId": 31040,
   "isGpuEnabled": false,
   "isInternetEnabled": false,
   "language": "python",
   "sourceType": "notebook"
  },
  "kernelspec": {
   "display_name": "xray_env",
   "language": "python",
   "name": "python3"
  },
  "language_info": {
   "codemirror_mode": {
    "name": "ipython",
    "version": 3
   },
   "file_extension": ".py",
   "mimetype": "text/x-python",
   "name": "python",
   "nbconvert_exporter": "python",
   "pygments_lexer": "ipython3",
   "version": "3.12.3"
  }
 },
 "nbformat": 4,
 "nbformat_minor": 4
}
